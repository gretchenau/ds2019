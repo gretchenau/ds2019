{
 "cells": [
  {
   "cell_type": "markdown",
   "metadata": {},
   "source": [
    "## Гипотеза о пространстве объектов и форме кластеров\n",
    "\n",
    "$$X = R^n$$\n",
    "$$ p_y(x) = (2 * \\pi)^{\\frac{-n}{2}} (\\sigma_{y1} ... \\sigma_{yn}) ^ {-1} exp(\\frac{-1}{2}\\rho_y^2(x, \\mu_y))$$\n",
    "\n",
    "Центры кластеров: $$\\mu_y = (\\mu_{y1}, ..., \\mu_{yn})$$\n",
    "Диагональная матрица ковариаций: $$\\Sigma_y = diag(\\sigma_{y1}, ..., \\sigma_{yn})$$\n",
    "\n",
    "$$\\rho_y^2(x, x') = \\sum_{j}\\sigma_{yj}^{-2} |f_j(x) - f_j(x')|$$"
   ]
  },
  {
   "cell_type": "markdown",
   "metadata": {},
   "source": [
    "EM-алгоритм:\n",
    "1. задать начальное приближение для $w_y, \\mu_y, \\Sigma_y$\n",
    "2. E-шаг:\n",
    "$$ g_{iy} = P(x | x_i) = \\frac{w_y p_y(x)}{\\sum_z {w_z p_z(x_i)}}$$\n",
    "3. M-шаг:\n",
    "3.1 $$L_1 = \\sum_i\\sum_i g_{iy} log((2 * \\pi)^{\\frac{-n}{2}} \\Sigma_y) ^ {-1} exp(\\frac{-1}{2}(x_i-\\mu_{yj})^T \\Sigma_y^{-1} (x_i - \\mu_{yj}))w_y) * g_{iy}^{-1}$$\n",
    "$${\\partial L_1}/{\\partial \\mu} = -\\partial \\mu_{yj} \\sum_i\\sum_i g_{iy} \\frac{1}{2} (x_i-\\mu_{yj})^T \\Sigma_y^{-1} (x_i - \\mu_{yj})) = \\frac{1}{2} \\sum_i g_{iy} {\\partial \\mu_{yj}} 2 \\mu_{yj}^T \\Sigma_y^{-1} x_i - \\mu_{yj}^T \\Sigma_y^{-1}\\mu_{yj})) = \\sum_i g_{iy}(\\Sigma_y^{-1} x_i - \\Sigma_y^{-1}\\mu_{yj})$$\n",
    "$$\\mu_{yj} = \\frac{\\sum_i g_{iy}x_i}{\\sum_i g_{iy}}$$\n",
    "3.2 Ищем w:\n",
    "$$L_2 = \\sum_i\\sum_i g_{iy} log w_y$$\n",
    "$$\\sum w = 1$$ => $$L_2 = \\sum_i\\sum_i g_{iy} log w_y + \\beta(\\sum w_y-1)$$\n",
    "$${\\partial L_2}/{\\partial w_y} = \\sum \\frac{g_{iy}}{w_y} + \\beta$$ \n",
    "$$w_y = \\frac{\\sum_i g_{iy}}{-\\beta} = \\frac{1}{l}\\sum_i g_{iy}$$\n",
    " 3.3\n",
    "$$L_3 = \\sum_i (\\frac{-1}{2} log(\\Sigma_y^{-1}) g_{iy} -\\frac{1}{2} \\sum_i g_{iy}(\\Sigma_y^{-1}(x_i-\\mu_{y})(x_i-\\mu_{y})^T) $$\n",
    "$${\\partial L_3}/{\\partial \\Sigma_y^{-1}} = \\sum_i (g_{iy}(\\Sigma_y-(x_i-\\mu_{y})(x_i-\\mu_{y})^T)) - diag( \\frac{1}{2}\\sum_i(\\Sigma_y-(x_i-\\mu_{y})(x_i-\\mu_{y})^T))) $$\n",
    "$$\\sum_i (g_{iy}(\\Sigma_y-(x_i-\\mu_{y})(x_i-\\mu_{y})^T)) =0 $$\n",
    "$$\\Sigma_y = \\frac{\\sum_i g_{iy}(x_i-\\mu_y)(x_i-\\mu_y)^T}{\\sum_i g_{iy}}$$\n"
   ]
  },
  {
   "cell_type": "code",
   "execution_count": null,
   "metadata": {},
   "outputs": [],
   "source": []
  }
 ],
 "metadata": {
  "kernelspec": {
   "display_name": "Python 3",
   "language": "python",
   "name": "python3"
  },
  "language_info": {
   "codemirror_mode": {
    "name": "ipython",
    "version": 3
   },
   "file_extension": ".py",
   "mimetype": "text/x-python",
   "name": "python",
   "nbconvert_exporter": "python",
   "pygments_lexer": "ipython3",
   "version": "3.6.8"
  }
 },
 "nbformat": 4,
 "nbformat_minor": 2
}
